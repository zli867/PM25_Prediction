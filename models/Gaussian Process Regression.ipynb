{
 "cells": [
  {
   "cell_type": "code",
   "execution_count": 1,
   "id": "b27dcf7c",
   "metadata": {},
   "outputs": [],
   "source": [
    "import pandas as pd\n",
    "from sklearn.model_selection import KFold\n",
    "from sklearn.metrics import r2_score\n",
    "from sklearn.metrics import mean_squared_error\n",
    "import numpy as np\n",
    "from sklearn.datasets import make_friedman2\n",
    "from sklearn.gaussian_process import GaussianProcessRegressor\n",
    "from sklearn.gaussian_process.kernels import DotProduct, WhiteKernel, RBF, ConstantKernel"
   ]
  },
  {
   "cell_type": "markdown",
   "id": "97800095",
   "metadata": {},
   "source": [
    "## Read and Reformat the data"
   ]
  },
  {
   "cell_type": "code",
   "execution_count": 2,
   "id": "ed319e1b",
   "metadata": {},
   "outputs": [],
   "source": [
    "data_file = \"../data/220720PM25diffsite.csv\"\n",
    "output_file = \"../result/gpr_all_features.csv\"\n",
    "\n",
    "df = pd.read_csv(data_file)\n",
    "selected_features = [\"pm25\", \"ENSOmonthly\"\n",
    "           ,\"eNOx\",\"SO2emis\",\"PM25emis\",\"eVOC\",\"NH3emis\"\n",
    "           ,\"TMAXbarstow\",\"AWNDLAX\",\"Mir850RH\",\"Rhontario\"\n",
    "           ,\"dayofweekf\",\"dayofyear\"]\n",
    "all_features = [\"pm25\", \"ENSOmonthly\"\n",
    "              ,\"eNOx\",\"SO2emis\",\"PM25emis\",\"eVOC\",\"NH3emis\"\n",
    "              ,\"TMAXbarstow\",\"AWNDLAX\",\"Mir850RH\",\"Rhontario\"\n",
    "              ,\"dayofweekf\",\"dayofyear\"\n",
    "              ,\"MirTemp500C\",\"MirWS850ms\",\"MirWD850\",\"MirHeight850\",\"MirWS500ms\",\"MirWD500\",\"Mir500RH\"\n",
    "              ,\"SRmeanC\",\"AWNDbarstow\",\"TMAXLAX\",\"TMAXontario\",\"AWNDontario\"]\n",
    "df_selected = df[selected_features]\n",
    "df_all_features = df[all_features]"
   ]
  },
  {
   "cell_type": "code",
   "execution_count": 3,
   "id": "d428a243",
   "metadata": {},
   "outputs": [],
   "source": [
    "dataset = df_all_features.dropna()\n",
    "label_name = \"pm25\"\n",
    "y_vector = dataset[[label_name]]\n",
    "# change it for all features or selected features\n",
    "features_names = all_features.copy()\n",
    "# features_names = selected_features.copy()\n",
    "features_names.remove(label_name)\n",
    "X_matrix = dataset[features_names]"
   ]
  },
  {
   "cell_type": "code",
   "execution_count": 4,
   "id": "d77ae40c",
   "metadata": {},
   "outputs": [
    {
     "name": "stdout",
     "output_type": "stream",
     "text": [
      "      ENSOmonthly      eNOx  SO2emis  PM25emis     eVOC  NH3emis  TMAXbarstow  \\\n",
      "3           24.78  1007.938   62.837    78.766  999.205   94.759         16.7   \n",
      "4           24.78  1007.938   62.837    78.766  999.205   94.759         16.7   \n",
      "6           24.78  1007.938   62.837    78.766  999.205   94.759         13.3   \n",
      "8           24.78  1007.938   62.837    78.766  999.205   94.759         18.3   \n",
      "9           24.78  1007.938   62.837    78.766  999.205   94.759         23.9   \n",
      "...           ...       ...      ...       ...      ...      ...          ...   \n",
      "7299        27.07   337.141   16.174    81.619  526.083   79.151          7.0   \n",
      "7300        27.07   337.141   16.174    81.619  526.083   79.151          9.0   \n",
      "7301        27.07   337.141   16.174    81.619  526.083   79.151         11.0   \n",
      "7302        27.07   337.141   16.174    81.619  526.083   79.151          9.0   \n",
      "7303        27.07   337.141   16.174    81.619  526.083   79.151          9.0   \n",
      "\n",
      "      AWNDLAX   Mir850RH  Rhontario  ...  MirWD850  MirHeight850  MirWS500ms  \\\n",
      "3         2.8  23.944355  42.057143  ... -0.991779        1573.0         4.0   \n",
      "4         2.4  29.298520  46.566667  ... -0.132382        1517.0        18.5   \n",
      "6         2.5  16.740247  13.825000  ... -0.536598        1567.0        15.4   \n",
      "8         2.0  22.701877  35.786957  ... -0.008821        1529.0        21.1   \n",
      "9         2.3  35.159068  50.939130  ... -0.158593        1521.0        20.6   \n",
      "...       ...        ...        ...  ...       ...           ...         ...   \n",
      "7299      3.7  93.850898  78.000000  ... -0.801153        1407.0        26.8   \n",
      "7300      2.7  60.405744  60.000000  ...  0.745113        1433.0        12.3   \n",
      "7301      2.1  41.563683  67.000000  ...  0.912933        1487.0        24.7   \n",
      "7302      1.8  42.263233  63.000000  ... -0.873297        1519.0        17.0   \n",
      "7303      2.6  48.585748  42.000000  ...  0.346649        1476.0        18.5   \n",
      "\n",
      "      MirWD500   Mir500RH  SRmeanC  AWNDbarstow  TMAXLAX  TMAXontario  \\\n",
      "3     0.650311  21.529615  137.708          2.2     20.6         20.0   \n",
      "4    -0.158593  17.709450  141.542          4.1     21.1         22.8   \n",
      "6    -0.262404  53.269116  103.708          2.6     17.2         18.9   \n",
      "8    -0.751007  31.708998  107.083          5.5     16.7         18.9   \n",
      "9    -0.991775  19.817077  110.750          5.7     16.7         18.3   \n",
      "...        ...        ...      ...          ...      ...          ...   \n",
      "7299  0.467719  90.291854   61.639          4.2     14.0         10.0   \n",
      "7300 -0.543996  53.252057  132.873          4.9     17.0         16.0   \n",
      "7301  0.912933  69.484250  123.569          3.0     17.0         15.0   \n",
      "7302  0.850888  43.204344   98.564          2.0     17.0         15.0   \n",
      "7303 -0.970528  77.608986   80.538          1.8     18.0         18.0   \n",
      "\n",
      "      AWNDontario  \n",
      "3             1.6  \n",
      "4             7.1  \n",
      "6             1.7  \n",
      "8             1.4  \n",
      "9             1.1  \n",
      "...           ...  \n",
      "7299          2.3  \n",
      "7300          1.7  \n",
      "7301          0.9  \n",
      "7302          0.7  \n",
      "7303          4.2  \n",
      "\n",
      "[5465 rows x 24 columns]\n"
     ]
    },
    {
     "name": "stderr",
     "output_type": "stream",
     "text": [
      "/Users/zongrunli/opt/anaconda3/envs/Data_Analysis/lib/python3.8/site-packages/pandas/core/indexing.py:1745: SettingWithCopyWarning: \n",
      "A value is trying to be set on a copy of a slice from a DataFrame.\n",
      "Try using .loc[row_indexer,col_indexer] = value instead\n",
      "\n",
      "See the caveats in the documentation: https://pandas.pydata.org/pandas-docs/stable/user_guide/indexing.html#returning-a-view-versus-a-copy\n",
      "  isetter(ilocs[0], value)\n"
     ]
    }
   ],
   "source": [
    "def dayofweekToNum(data_frame):\n",
    "    day_mapping = {\"Mon\": 1, \"Tue\": 2, \"Wed\": 3, \"Thu\": 4, \"Fri\": 5, \"Sat\": 6, \"Sun\": 7}\n",
    "    dayofweekf = data_frame[\"dayofweekf\"].to_numpy()\n",
    "    res = []\n",
    "    for i in range(0, len(dayofweekf)):\n",
    "        res.append(day_mapping[dayofweekf[i]])\n",
    "    data_frame.loc[:, (\"dayofweekf\")] = res\n",
    "    return data_frame\n",
    "X_matrix = dayofweekToNum(X_matrix)\n",
    "print(X_matrix)"
   ]
  },
  {
   "cell_type": "code",
   "execution_count": 5,
   "id": "05756b7e",
   "metadata": {},
   "outputs": [],
   "source": [
    "features_data = X_matrix.to_numpy()\n",
    "_, num_features = features_data.shape\n",
    "label_data = y_vector.to_numpy()\n",
    "# split the data for 10-fold cross validation\n",
    "kf = KFold(n_splits=10, shuffle=True, random_state=100)"
   ]
  },
  {
   "cell_type": "markdown",
   "id": "588bfbe6",
   "metadata": {},
   "source": [
    "## Gaussian Process Regression"
   ]
  },
  {
   "cell_type": "code",
   "execution_count": 6,
   "id": "ce76368d",
   "metadata": {},
   "outputs": [],
   "source": [
    "# for selected feature 19, 105, for all feature we still use 19, 105\n",
    "hyper_parameters = [(19, 105)]"
   ]
  },
  {
   "cell_type": "code",
   "execution_count": 7,
   "id": "e73fdbbd",
   "metadata": {},
   "outputs": [
    {
     "name": "stdout",
     "output_type": "stream",
     "text": [
      "[0.6968301063049521, 0.6549642913868534, 0.6361694115602352, 0.6468672680288066, 0.6182955664003815, 0.6801774519936346, 0.5329498257309033, 0.6171227602829057, 0.6766846684128364, 0.6264682920951252]\n"
     ]
    }
   ],
   "source": [
    "testing_data_rows = []\n",
    "training_data_rows = []\n",
    "final_r2 = 0\n",
    "final_rmse = 0\n",
    "final_mbe = 0\n",
    "final_prediction = None\n",
    "for hyper_parameter in hyper_parameters:\n",
    "    r2_res = []\n",
    "    rmse_res = []\n",
    "    r2_res_training = []\n",
    "    rmse_res_training = []\n",
    "    for train_index, test_index in kf.split(features_data):\n",
    "        X_train, X_test = features_data[train_index], features_data[test_index]\n",
    "        y_train, y_test = label_data[train_index], label_data[test_index]\n",
    "        kernel = ConstantKernel(hyper_parameter[0], 'fixed') * RBF(hyper_parameter[1], 'fixed')\n",
    "        model = GaussianProcessRegressor(kernel=kernel, n_restarts_optimizer=1, alpha=0.1)\n",
    "        model.fit(X_train, y_train)\n",
    "        # evaluate the model performance\n",
    "        # test data\n",
    "        predict_res = model.predict(X_test)\n",
    "        r2_res.append(r2_score(y_test, predict_res))\n",
    "        rmse_res.append(mean_squared_error(predict_res, y_test, squared=False))\n",
    "        # training data\n",
    "        predict_res = model.predict(X_train)\n",
    "        r2_res_training.append(r2_score(y_train, predict_res))\n",
    "        rmse_res_training.append(mean_squared_error(predict_res, y_train, squared=False))\n",
    "    print(r2_res)\n",
    "    # write down the performance for current hyperparameters\n",
    "    r2_mean = np.mean(r2_res)\n",
    "    rmse_mean = np.mean(rmse_res)\n",
    "    data_row = [hyper_parameter[0], hyper_parameter[1], r2_mean, rmse_mean]\n",
    "    testing_data_rows.append(data_row)\n",
    "    \n",
    "    r2_mean = np.mean(r2_res_training)\n",
    "    rmse_mean = np.mean(rmse_res_training)\n",
    "    data_row = [hyper_parameter[0], hyper_parameter[1], r2_mean, rmse_mean]\n",
    "    training_data_rows.append(data_row)\n",
    "    # train by all data\n",
    "    kernel = ConstantKernel(hyper_parameter[0], 'fixed') * RBF(hyper_parameter[1], 'fixed')\n",
    "    model = GaussianProcessRegressor(kernel=kernel, n_restarts_optimizer=1, alpha=0.1)\n",
    "    model.fit(features_data, label_data)\n",
    "    # evaluate the model performance\n",
    "    predict_res = model.predict(features_data)\n",
    "    final_r2 = r2_score(label_data, predict_res)\n",
    "    final_rmse = mean_squared_error(predict_res, label_data, squared=False)\n",
    "    final_mbe = np.mean(predict_res - label_data)\n",
    "    final_prediction = predict_res"
   ]
  },
  {
   "cell_type": "markdown",
   "id": "e3183e87",
   "metadata": {},
   "source": [
    "## Cross Validation Results"
   ]
  },
  {
   "cell_type": "code",
   "execution_count": 8,
   "id": "3eb6cd99",
   "metadata": {},
   "outputs": [
    {
     "name": "stdout",
     "output_type": "stream",
     "text": [
      "Training Data\n",
      "R2 = 0.897920   RMSE = 4.000951\n",
      "Testing Data\n",
      "R2 = 0.638653   RMSE = 7.511375\n"
     ]
    }
   ],
   "source": [
    "# for Table S4\n",
    "print(\"Training Data\")\n",
    "print(\"R2 = %f   RMSE = %f\" %(training_data_rows[0][2], training_data_rows[0][3]))\n",
    "print(\"Testing Data\")\n",
    "print(\"R2 = %f   RMSE = %f\" %(testing_data_rows[0][2], testing_data_rows[0][3]))"
   ]
  },
  {
   "cell_type": "markdown",
   "id": "1e3dc34e",
   "metadata": {},
   "source": [
    "## Final Model Performance"
   ]
  },
  {
   "cell_type": "code",
   "execution_count": 9,
   "id": "b03d3c3f",
   "metadata": {},
   "outputs": [
    {
     "name": "stdout",
     "output_type": "stream",
     "text": [
      "R2 = 0.893463   RMSE = 4.087599    MBE = -0.001066\n"
     ]
    }
   ],
   "source": [
    "# for Table 1\n",
    "print(\"R2 = %f   RMSE = %f    MBE = %f\" %(final_r2, final_rmse, final_mbe))"
   ]
  },
  {
   "cell_type": "markdown",
   "id": "9bc3df21",
   "metadata": {},
   "source": [
    "## Generate Data for Annual Evaluation"
   ]
  },
  {
   "cell_type": "code",
   "execution_count": 10,
   "id": "42b70f1e",
   "metadata": {},
   "outputs": [],
   "source": [
    "X_matrix['predict_values'] = final_prediction\n",
    "# save to csv\n",
    "X_matrix.to_csv(output_file, index=False)"
   ]
  }
 ],
 "metadata": {
  "kernelspec": {
   "display_name": "Python 3",
   "language": "python",
   "name": "python3"
  },
  "language_info": {
   "codemirror_mode": {
    "name": "ipython",
    "version": 3
   },
   "file_extension": ".py",
   "mimetype": "text/x-python",
   "name": "python",
   "nbconvert_exporter": "python",
   "pygments_lexer": "ipython3",
   "version": "3.8.5"
  }
 },
 "nbformat": 4,
 "nbformat_minor": 5
}
